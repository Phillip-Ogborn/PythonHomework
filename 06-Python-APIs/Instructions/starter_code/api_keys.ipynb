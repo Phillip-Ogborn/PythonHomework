# OpenWeatherMap API Key
api_key = "a24505d15d895ab7ef62d2d0ad31631d"


